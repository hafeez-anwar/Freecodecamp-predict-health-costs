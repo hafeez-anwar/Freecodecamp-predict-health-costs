{
 "cells": [
  {
   "cell_type": "markdown",
   "metadata": {
    "id": "M9TX15KOkPBV"
   },
   "source": [
    "*Note: You are currently reading this using Google Colaboratory which is a cloud-hosted version of Jupyter Notebook. This is a document containing both text cells for documentation and runnable code cells. If you are unfamiliar with Jupyter Notebook, watch this 3-minute introduction before starting this challenge: https://www.youtube.com/watch?v=inN8seMm7UI*\n",
    "\n",
    "---\n",
    "\n",
    "In this challenge, you will predict healthcare costs using a regression algorithm.\n",
    "\n",
    "You are given a dataset that contains information about different people including their healthcare costs. Use the data to predict healthcare costs based on new data.\n",
    "\n",
    "The first two cells of this notebook import libraries and the data.\n",
    "\n",
    "Make sure to convert categorical data to numbers. Use 80% of the data as the `train_dataset` and 20% of the data as the `test_dataset`.\n",
    "\n",
    "`pop` off the \"expenses\" column from these datasets to create new datasets called `train_labels` and `test_labels`. Use these labels when training your model.\n",
    "\n",
    "Create a model and train it with the `train_dataset`. Run the final cell in this notebook to check your model. The final cell will use the unseen `test_dataset` to check how well the model generalizes.\n",
    "\n",
    "To pass the challenge, `model.evaluate` must return a Mean Absolute Error of under 3500. This means it predicts health care costs correctly within $3500.\n",
    "\n",
    "The final cell will also predict expenses using the `test_dataset` and graph the results."
   ]
  },
  {
   "cell_type": "code",
   "execution_count": 41,
   "metadata": {
    "id": "1rRo8oNqZ-Rj"
   },
   "outputs": [],
   "source": [
    "# Import libraries. You may or may not use all of these.\n",
    "#!pip install -q git+https://github.com/tensorflow/docs\n",
    "import matplotlib.pyplot as plt\n",
    "import numpy as np\n",
    "import pandas as pd\n",
    "import tensorflow as tf\n",
    "\n",
    "from tensorflow import keras\n",
    "from tensorflow.keras import layers"
   ]
  },
  {
   "cell_type": "markdown",
   "metadata": {
    "id": "959SPnjkPdiq"
   },
   "source": [
    "## Reading data\n",
    "The data is read from the CSV file and its head is displayed"
   ]
  },
  {
   "cell_type": "code",
   "execution_count": 42,
   "metadata": {
    "id": "CiX2FI4gZtTt"
   },
   "outputs": [
    {
     "data": {
      "text/html": [
       "<div>\n",
       "<style scoped>\n",
       "    .dataframe tbody tr th:only-of-type {\n",
       "        vertical-align: middle;\n",
       "    }\n",
       "\n",
       "    .dataframe tbody tr th {\n",
       "        vertical-align: top;\n",
       "    }\n",
       "\n",
       "    .dataframe thead th {\n",
       "        text-align: right;\n",
       "    }\n",
       "</style>\n",
       "<table border=\"1\" class=\"dataframe\">\n",
       "  <thead>\n",
       "    <tr style=\"text-align: right;\">\n",
       "      <th></th>\n",
       "      <th>age</th>\n",
       "      <th>sex</th>\n",
       "      <th>bmi</th>\n",
       "      <th>children</th>\n",
       "      <th>smoker</th>\n",
       "      <th>region</th>\n",
       "      <th>expenses</th>\n",
       "    </tr>\n",
       "  </thead>\n",
       "  <tbody>\n",
       "    <tr>\n",
       "      <th>0</th>\n",
       "      <td>19</td>\n",
       "      <td>female</td>\n",
       "      <td>27.9</td>\n",
       "      <td>0</td>\n",
       "      <td>yes</td>\n",
       "      <td>southwest</td>\n",
       "      <td>16884.92</td>\n",
       "    </tr>\n",
       "    <tr>\n",
       "      <th>1</th>\n",
       "      <td>18</td>\n",
       "      <td>male</td>\n",
       "      <td>33.8</td>\n",
       "      <td>1</td>\n",
       "      <td>no</td>\n",
       "      <td>southeast</td>\n",
       "      <td>1725.55</td>\n",
       "    </tr>\n",
       "    <tr>\n",
       "      <th>2</th>\n",
       "      <td>28</td>\n",
       "      <td>male</td>\n",
       "      <td>33.0</td>\n",
       "      <td>3</td>\n",
       "      <td>no</td>\n",
       "      <td>southeast</td>\n",
       "      <td>4449.46</td>\n",
       "    </tr>\n",
       "    <tr>\n",
       "      <th>3</th>\n",
       "      <td>33</td>\n",
       "      <td>male</td>\n",
       "      <td>22.7</td>\n",
       "      <td>0</td>\n",
       "      <td>no</td>\n",
       "      <td>northwest</td>\n",
       "      <td>21984.47</td>\n",
       "    </tr>\n",
       "    <tr>\n",
       "      <th>4</th>\n",
       "      <td>32</td>\n",
       "      <td>male</td>\n",
       "      <td>28.9</td>\n",
       "      <td>0</td>\n",
       "      <td>no</td>\n",
       "      <td>northwest</td>\n",
       "      <td>3866.86</td>\n",
       "    </tr>\n",
       "  </tbody>\n",
       "</table>\n",
       "</div>"
      ],
      "text/plain": [
       "   age     sex   bmi  children smoker     region  expenses\n",
       "0   19  female  27.9         0    yes  southwest  16884.92\n",
       "1   18    male  33.8         1     no  southeast   1725.55\n",
       "2   28    male  33.0         3     no  southeast   4449.46\n",
       "3   33    male  22.7         0     no  northwest  21984.47\n",
       "4   32    male  28.9         0     no  northwest   3866.86"
      ]
     },
     "execution_count": 42,
     "metadata": {},
     "output_type": "execute_result"
    }
   ],
   "source": [
    "# Import data\n",
    "#!wget https://cdn.freecodecamp.org/project-data/health-costs/insurance.csv\n",
    "dataset = pd.read_csv('insurance.csv')\n",
    "dataset.head()"
   ]
  },
  {
   "cell_type": "markdown",
   "metadata": {
    "id": "959SPnjkPdiq"
   },
   "source": [
    "## Categorical to Numerical Conversion\n",
    "Make sure to convert categorical data to numbers. The categorical features are the ones having type \"object\""
   ]
  },
  {
   "cell_type": "code",
   "execution_count": 43,
   "metadata": {},
   "outputs": [
    {
     "data": {
      "text/html": [
       "<div>\n",
       "<style scoped>\n",
       "    .dataframe tbody tr th:only-of-type {\n",
       "        vertical-align: middle;\n",
       "    }\n",
       "\n",
       "    .dataframe tbody tr th {\n",
       "        vertical-align: top;\n",
       "    }\n",
       "\n",
       "    .dataframe thead th {\n",
       "        text-align: right;\n",
       "    }\n",
       "</style>\n",
       "<table border=\"1\" class=\"dataframe\">\n",
       "  <thead>\n",
       "    <tr style=\"text-align: right;\">\n",
       "      <th></th>\n",
       "      <th>age</th>\n",
       "      <th>sex</th>\n",
       "      <th>bmi</th>\n",
       "      <th>children</th>\n",
       "      <th>smoker</th>\n",
       "      <th>region</th>\n",
       "      <th>expenses</th>\n",
       "    </tr>\n",
       "  </thead>\n",
       "  <tbody>\n",
       "    <tr>\n",
       "      <th>0</th>\n",
       "      <td>19</td>\n",
       "      <td>0</td>\n",
       "      <td>27.9</td>\n",
       "      <td>0</td>\n",
       "      <td>0</td>\n",
       "      <td>0</td>\n",
       "      <td>16884.92</td>\n",
       "    </tr>\n",
       "    <tr>\n",
       "      <th>1</th>\n",
       "      <td>18</td>\n",
       "      <td>1</td>\n",
       "      <td>33.8</td>\n",
       "      <td>1</td>\n",
       "      <td>1</td>\n",
       "      <td>1</td>\n",
       "      <td>1725.55</td>\n",
       "    </tr>\n",
       "    <tr>\n",
       "      <th>2</th>\n",
       "      <td>28</td>\n",
       "      <td>1</td>\n",
       "      <td>33.0</td>\n",
       "      <td>3</td>\n",
       "      <td>1</td>\n",
       "      <td>1</td>\n",
       "      <td>4449.46</td>\n",
       "    </tr>\n",
       "    <tr>\n",
       "      <th>3</th>\n",
       "      <td>33</td>\n",
       "      <td>1</td>\n",
       "      <td>22.7</td>\n",
       "      <td>0</td>\n",
       "      <td>1</td>\n",
       "      <td>2</td>\n",
       "      <td>21984.47</td>\n",
       "    </tr>\n",
       "    <tr>\n",
       "      <th>4</th>\n",
       "      <td>32</td>\n",
       "      <td>1</td>\n",
       "      <td>28.9</td>\n",
       "      <td>0</td>\n",
       "      <td>1</td>\n",
       "      <td>2</td>\n",
       "      <td>3866.86</td>\n",
       "    </tr>\n",
       "  </tbody>\n",
       "</table>\n",
       "</div>"
      ],
      "text/plain": [
       "   age  sex   bmi  children  smoker  region  expenses\n",
       "0   19    0  27.9         0       0       0  16884.92\n",
       "1   18    1  33.8         1       1       1   1725.55\n",
       "2   28    1  33.0         3       1       1   4449.46\n",
       "3   33    1  22.7         0       1       2  21984.47\n",
       "4   32    1  28.9         0       1       2   3866.86"
      ]
     },
     "execution_count": 43,
     "metadata": {},
     "output_type": "execute_result"
    }
   ],
   "source": [
    "# Reference: https://inria.github.io/scikit-learn-mooc/python_scripts/03_categorical_pipeline.html\n",
    "# Reference: https://www.geeksforgeeks.org/how-to-convert-categorical-variable-to-numeric-in-pandas/\n",
    "\n",
    "from sklearn.compose import make_column_selector as selector\n",
    "\n",
    "# The datatype of categorical features is \"object\"\n",
    "categorical_columns_selector = selector(dtype_include=object)\n",
    "categorical_columns = categorical_columns_selector(dataset)\n",
    "\n",
    "for a_column in categorical_columns:\n",
    "    unique_vals = dataset[a_column].unique().tolist()\n",
    "    numeric_mappings = list(range(0,len(unique_vals)))\n",
    "    \n",
    "    dataset[a_column].replace(unique_vals,\n",
    "                              numeric_mappings,\n",
    "                              inplace=True)\n",
    "dataset.head()"
   ]
  },
  {
   "cell_type": "markdown",
   "metadata": {
    "id": "959SPnjkPdiq"
   },
   "source": [
    "## Train and test split\n",
    "Use 80% of the data as the `train_dataset` and 20% of the data as the `test_dataset`."
   ]
  },
  {
   "cell_type": "code",
   "execution_count": 44,
   "metadata": {},
   "outputs": [
    {
     "name": "stdout",
     "output_type": "stream",
     "text": [
      "Number of samples in training set: 1070 => 80.0% of the original dataset\n",
      "Number of samples in testing set: 268 => 20.0% of the original dataset\n"
     ]
    }
   ],
   "source": [
    "# Reference: https://inria.github.io/scikit-learn-mooc/python_scripts/02_numerical_pipeline_hands_on.html\n",
    "\n",
    "from sklearn.model_selection import train_test_split\n",
    "\n",
    "# First, separate the data and target\n",
    "data  = dataset.drop(columns=\"expenses\") \n",
    "target = dataset[\"expenses\"]\n",
    "\n",
    "# The train_test_split function from SCIKITLEARN does the \n",
    "# trick. I saved the random_state to reproduce the results\n",
    "data_train, data_test, target_train, target_test = train_test_split(\n",
    "    data, target, random_state=42, test_size=0.2)\n",
    "\n",
    "print(f\"Number of samples in training set: {data_train.shape[0]} => \"\n",
    "      f\"{data_train.shape[0] / dataset.shape[0] * 100:.1f}% of the\"\n",
    "      f\" original dataset\")\n",
    "\n",
    "print(f\"Number of samples in testing set: {data_test.shape[0]} => \"\n",
    "      f\"{data_test.shape[0] / dataset.shape[0] * 100:.1f}% of the\"\n",
    "      f\" original dataset\")"
   ]
  },
  {
   "cell_type": "markdown",
   "metadata": {},
   "source": [
    "## Define the model"
   ]
  },
  {
   "cell_type": "code",
   "execution_count": 45,
   "metadata": {},
   "outputs": [
    {
     "name": "stdout",
     "output_type": "stream",
     "text": [
      "Model: \"sequential_3\"\n",
      "_________________________________________________________________\n",
      " Layer (type)                Output Shape              Param #   \n",
      "=================================================================\n",
      " dense_20 (Dense)            (None, 100)               700       \n",
      "                                                                 \n",
      " dense_21 (Dense)            (None, 100)               10100     \n",
      "                                                                 \n",
      " dense_22 (Dense)            (None, 100)               10100     \n",
      "                                                                 \n",
      " dense_23 (Dense)            (None, 50)                5050      \n",
      "                                                                 \n",
      " dense_24 (Dense)            (None, 1)                 51        \n",
      "                                                                 \n",
      "=================================================================\n",
      "Total params: 26,001\n",
      "Trainable params: 26,001\n",
      "Non-trainable params: 0\n",
      "_________________________________________________________________\n"
     ]
    }
   ],
   "source": [
    "# Reference: (Fot input shape) https://keras.io/api/layers/core_layers/dense/\n",
    "model = keras.Sequential([\n",
    "                            keras.Input(np.array(data_train).shape[1]),\n",
    "                            layers.Dense(100),\n",
    "                            layers.Dense(100),\n",
    "                            layers.Dense(100),\n",
    "                            layers.Dense(50),\n",
    "                            layers.Dense(1),\n",
    "                          ])\n",
    "model.compile(loss='mae', \n",
    "              optimizer='adam',\n",
    "              metrics = ['mae','mse']\n",
    "              )\n",
    "    \n",
    "model.build()\n",
    "model.summary()"
   ]
  },
  {
   "cell_type": "code",
   "execution_count": 46,
   "metadata": {},
   "outputs": [],
   "source": [
    "history = model.fit(\n",
    "    data_train,\n",
    "    target_train,\n",
    "    epochs=1000,\n",
    "    validation_split=0.5,\n",
    "    verbose = 0\n",
    ")"
   ]
  },
  {
   "cell_type": "code",
   "execution_count": 39,
   "metadata": {},
   "outputs": [
    {
     "data": {
      "image/png": "[encoded data removed]",
      "text/plain": [
       "<Figure size 1440x432 with 3 Axes>"
      ]
     },
     "metadata": {
      "needs_background": "light"
     },
     "output_type": "display_data"
    }
   ],
   "source": [
    "# history.history.keys()\n",
    "# Training_results\n",
    "train_loss = history.history['loss']\n",
    "train_mae = history.history['mae']\n",
    "train_mse = history.history['mse']\n",
    "\n",
    "# validation_results\n",
    "val_loss = history.history['val_loss']\n",
    "val_mae = history.history['val_mae']\n",
    "val_mse = history.history['val_mse']\n",
    "\n",
    "# Epochs\n",
    "epochs = 1000\n",
    "epochs_range = range(epochs)\n",
    "plt.figure(figsize=(20, 6))\n",
    "\n",
    "plt.subplot(1, 3, 1)\n",
    "plt.plot(epochs_range, train_loss, label='Training Loss')\n",
    "plt.plot(epochs_range, val_loss, label='Validation Loss')\n",
    "plt.legend(loc='upper right')\n",
    "plt.title('Training and Validation Losses')\n",
    "plt.xlabel(\"Number of epochs\")\n",
    "\n",
    "plt.subplot(1, 3, 2)\n",
    "plt.plot(epochs_range, train_mae, label='Training MAE')\n",
    "plt.plot(epochs_range, val_mae, label='Validation MAE')\n",
    "plt.legend(loc='upper right')\n",
    "plt.title('Training and Validation Mean Absolute Errors (MAE)')\n",
    "plt.xlabel(\"Number of epochs\")\n",
    "\n",
    "plt.subplot(1, 3, 3)\n",
    "plt.plot(epochs_range, train_mse, label='Training MSE')\n",
    "plt.plot(epochs_range, val_mse, label='Validation MSE')\n",
    "plt.legend(loc='upper right')\n",
    "plt.title('Train and Validation Mean Squared Errors (MSE)')\n",
    "plt.xlabel(\"Number of epochs\")\n",
    "\n",
    "plt.show()"
   ]
  },
  {
   "cell_type": "code",
   "execution_count": 40,
   "metadata": {
    "id": "Xe7RXH3N3CWU"
   },
   "outputs": [
    {
     "name": "stdout",
     "output_type": "stream",
     "text": [
      "9/9 - 0s - loss: 3207.0344 - mae: 3207.0344 - mse: 44810256.0000 - 21ms/epoch - 2ms/step\n",
      "Testing set Mean Abs Error: 3207.03 expenses\n",
      "You passed the challenge. Great job!\n",
      "9/9 [==============================] - 0s 730us/step\n"
     ]
    },
    {
     "data": {
      "image/png": "[encoded data removed]",
      "text/plain": [
       "<Figure size 432x288 with 1 Axes>"
      ]
     },
     "metadata": {
      "needs_background": "light"
     },
     "output_type": "display_data"
    }
   ],
   "source": [
    "# RUN THIS CELL TO TEST YOUR MODEL. DO NOT MODIFY CONTENTS.\n",
    "# Test model by checking how well the model generalizes using the test set.\n",
    "loss, mae, mse = model.evaluate(data_test, target_test, verbose=2)\n",
    "\n",
    "print(\"Testing set Mean Abs Error: {:5.2f} expenses\".format(mae))\n",
    "\n",
    "if mae < 3500:\n",
    "    print(\"You passed the challenge. Great job!\")\n",
    "else:\n",
    "    print(\"The Mean Abs Error must be less than 3500. Keep trying.\")\n",
    "\n",
    "# Plot predictions.\n",
    "test_predictions = model.predict(data_test).flatten()\n",
    "\n",
    "a = plt.axes(aspect='equal')\n",
    "plt.scatter(target_test, test_predictions)\n",
    "plt.xlabel('True values (expenses)')\n",
    "plt.ylabel('Predictions (expenses)')\n",
    "lims = [0, 50000]\n",
    "plt.xlim(lims)\n",
    "plt.ylim(lims)\n",
    "_ = plt.plot(lims,lims)\n"
   ]
  },
  {
   "cell_type": "code",
   "execution_count": null,
   "metadata": {},
   "outputs": [],
   "source": []
  }
 ],
 "metadata": {
  "colab": {
   "collapsed_sections": [],
   "name": "fcc_predict_health_costs_with_regression.ipynb",
   "private_outputs": true,
   "provenance": [
    {
     "file_id": "https://github.com/freeCodeCamp/boilerplate-linear-regression-health-costs-calculator/blob/master/fcc_predict_health_costs_with_regression.ipynb",
     "timestamp": 1661669552406
    }
   ]
  },
  "kernelspec": {
   "display_name": "Python 3 (ipykernel)",
   "language": "python",
   "name": "python3"
  },
  "language_info": {
   "codemirror_mode": {
    "name": "ipython",
    "version": 3
   },
   "file_extension": ".py",
   "mimetype": "text/x-python",
   "name": "python",
   "nbconvert_exporter": "python",
   "pygments_lexer": "ipython3",
   "version": "3.10.4"
  }
 },
 "nbformat": 4,
 "nbformat_minor": 1
}
